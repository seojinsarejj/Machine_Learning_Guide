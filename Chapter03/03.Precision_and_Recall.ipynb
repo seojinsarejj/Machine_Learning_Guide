{
 "cells": [
  {
   "cell_type": "markdown",
   "id": "charged-dispute",
   "metadata": {},
   "source": [
    "# Precision and Recall\n",
    "\n",
    "### **Precision = TP / (FP + TP)**\n",
    "- It is important when a big problem arises if the actual negative is misjudged as positive\n",
    "### **Recall = TP / (FN + TP)** (= Sensitivity)\n",
    "- It is important when a big problem arises if the actual positive is misjudged as negative"
   ]
  },
  {
   "cell_type": "code",
   "execution_count": 7,
   "id": "super-hardwood",
   "metadata": {},
   "outputs": [],
   "source": [
    "from sklearn.metrics import accuracy_score, precision_score, recall_score, confusion_matrix\n",
    "\n",
    "def get_clf_eval(y_test, pred):\n",
    "    confusion = confusion_matrix(y_test,pred)\n",
    "    accuracy = accuracy_score(y_test, pred)\n",
    "    precision = precision_score(y_test, pred)\n",
    "    recall = recall_score(y_test, pred)\n",
    "    print('Confusion Matrix')\n",
    "    print(confusion)\n",
    "    print('Accuracy: {0:.4f}, Precision: {1:.4f}, Recall: {2:.4f}'.format(accuracy, precision, recall))"
   ]
  },
  {
   "cell_type": "code",
   "execution_count": 8,
   "id": "static-marine",
   "metadata": {},
   "outputs": [
    {
     "name": "stdout",
     "output_type": "stream",
     "text": [
      "Confusion Matrix\n",
      "[[108  10]\n",
      " [ 14  47]]\n",
      "Accuracy: 0.8659, Precision: 0.8246, Recall: 0.7705\n"
     ]
    }
   ],
   "source": [
    "import pandas as pd\n",
    "from sklearn.model_selection import train_test_split\n",
    "from sklearn.linear_model import LogisticRegression\n",
    "import import_ipynb\n",
    "import accuracy as acc\n",
    "\n",
    "titanic_df = pd.read_csv('../data/titanic_train.csv')\n",
    "y_titanic_df = titanic_df['Survived']\n",
    "X_titanic_df = titanic_df.drop('Survived', axis=1)\n",
    "X_titanic_df = acc.transform_features(X_titanic_df)\n",
    "\n",
    "X_train,X_test,y_train,y_test = train_test_split(X_titanic_df, y_titanic_df, test_size=0.20, random_state=11)\n",
    "\n",
    "lr_clf = LogisticRegression(solver='liblinear')\n",
    "\n",
    "lr_clf.fit(X_train,y_train)\n",
    "pred = lr_clf.predict(X_test)\n",
    "get_clf_eval(y_test,pred)"
   ]
  },
  {
   "cell_type": "code",
   "execution_count": null,
   "id": "representative-raising",
   "metadata": {},
   "outputs": [],
   "source": []
  }
 ],
 "metadata": {
  "kernelspec": {
   "display_name": "Python 3",
   "language": "python",
   "name": "python3"
  },
  "language_info": {
   "codemirror_mode": {
    "name": "ipython",
    "version": 3
   },
   "file_extension": ".py",
   "mimetype": "text/x-python",
   "name": "python",
   "nbconvert_exporter": "python",
   "pygments_lexer": "ipython3",
   "version": "3.8.5"
  }
 },
 "nbformat": 4,
 "nbformat_minor": 5
}
