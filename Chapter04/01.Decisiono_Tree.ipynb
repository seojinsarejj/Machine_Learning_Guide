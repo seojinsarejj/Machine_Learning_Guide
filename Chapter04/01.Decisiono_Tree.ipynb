{
 "cells": [
  {
   "cell_type": "markdown",
   "id": "common-tribe",
   "metadata": {},
   "source": [
    "# Decision Tree\n",
    "\n",
    "- Split data sets to be as uniform as possible\n",
    "- Representative methods of measuring uniformity include an **information gain index** using entropy, and a **Gini coefficient**. "
   ]
  },
  {
   "cell_type": "markdown",
   "id": "right-questionnaire",
   "metadata": {},
   "source": [
    "- **Entropy** refers to the degree of congestion of a given data set. If different values are mixed, the entropy is high, and if the same value is mixed, the entropy is low. **Information gain index** is 1 - entropy. The decision tree divide based on an attribute with a high information gain.\n",
    "- **Gini coefficient** is most uniform to 0 and is more uneven toward 1."
   ]
  },
  {
   "cell_type": "markdown",
   "id": "immune-retailer",
   "metadata": {},
   "source": []
  },
  {
   "cell_type": "code",
   "execution_count": null,
   "id": "entire-programmer",
   "metadata": {},
   "outputs": [],
   "source": []
  }
 ],
 "metadata": {
  "kernelspec": {
   "display_name": "Python 3",
   "language": "python",
   "name": "python3"
  },
  "language_info": {
   "codemirror_mode": {
    "name": "ipython",
    "version": 3
   },
   "file_extension": ".py",
   "mimetype": "text/x-python",
   "name": "python",
   "nbconvert_exporter": "python",
   "pygments_lexer": "ipython3",
   "version": "3.8.5"
  }
 },
 "nbformat": 4,
 "nbformat_minor": 5
}
